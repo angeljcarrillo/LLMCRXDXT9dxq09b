{
 "cells": [
  {
   "cell_type": "code",
   "execution_count": 124,
   "id": "bbcdb733",
   "metadata": {},
   "outputs": [],
   "source": [
    "import os\n",
    "import csv\n",
    "import pandas as pd\n",
    "import numpy as np\n",
    "from sklearn import linear_model,decomposition\n",
    "from sklearn.pipeline import Pipeline\n",
    "from sklearn.model_selection import GridSearchCV,cross_val_score\n",
    "from sklearn.preprocessing import StandardScaler\n",
    "from sklearn.preprocessing import normalize\n",
    "from numpy import genfromtxt\n",
    "from sklearn.svm import SVC  \n",
    "from sklearn.metrics import classification_report, confusion_matrix  \n",
    "from sklearn.feature_selection import SelectKBest\n",
    "from sklearn.feature_selection import chi2\n",
    "from sklearn.tree import DecisionTreeClassifier\n",
    "from sklearn.neighbors import KNeighborsClassifier\n",
    "from sklearn.naive_bayes import GaussianNB\n"
   ]
  },
  {
   "cell_type": "code",
   "execution_count": 125,
   "id": "697b3fb6",
   "metadata": {},
   "outputs": [],
   "source": [
    "data = genfromtxt('ACME-HappinessSurvey2020.csv', delimiter=',')\n",
    "#print(data.shape)\n",
    "#print(data)"
   ]
  },
  {
   "cell_type": "code",
   "execution_count": 126,
   "id": "22225c72",
   "metadata": {},
   "outputs": [],
   "source": [
    "new_data=data[1:len(data),:]\n",
    "#print(new_data)\n",
    "#print(new_data.shape)\n",
    "X_F=new_data[:,1:len(data)]\n",
    "#x=new_data[:,1:len(data)]\n",
    "x=np.column_stack((new_data[:, 0],new_data[:, 2],new_data[:, 4]))\n",
    "y=new_data[:,0]\n",
    "#print(x)\n",
    "#print(x.shape)\n",
    "#print(y)\n",
    "x_new=normalize(x)\n",
    "sc=StandardScaler()\n",
    "pca=decomposition.PCA()\n",
    "logistic=linear_model.LogisticRegression()\n",
    "pipe=Pipeline(steps=[('sc',sc),('pca',pca),('logistic',logistic)])"
   ]
  },
  {
   "cell_type": "code",
   "execution_count": 127,
   "id": "6f8f9893",
   "metadata": {},
   "outputs": [
    {
     "data": {
      "text/plain": [
       "GridSearchCV(estimator=Pipeline(steps=[('sc', StandardScaler()), ('pca', PCA()),\n",
       "                                       ('logistic', LogisticRegression())]),\n",
       "             param_grid={'logistic__C': array([1.00000000e-01, 1.26485522e-01, 1.59985872e-01, 2.02358965e-01,\n",
       "       2.55954792e-01, 3.23745754e-01, 4.09491506e-01, 5.17947468e-01,\n",
       "       6.55128557e-01, 8.28642773e-01, 1.04811313e+00, 1.32571137e+00,\n",
       "       1.67683294e+00, 2.1209508...\n",
       "       7.19685673e+01, 9.10298178e+01, 1.15139540e+02, 1.45634848e+02,\n",
       "       1.84206997e+02, 2.32995181e+02, 2.94705170e+02, 3.72759372e+02,\n",
       "       4.71486636e+02, 5.96362332e+02, 7.54312006e+02, 9.54095476e+02,\n",
       "       1.20679264e+03, 1.52641797e+03, 1.93069773e+03, 2.44205309e+03,\n",
       "       3.08884360e+03, 3.90693994e+03, 4.94171336e+03, 6.25055193e+03,\n",
       "       7.90604321e+03, 1.00000000e+04]),\n",
       "                         'logistic__penalty': ['l2'],\n",
       "                         'pca__n_components': [1, 2, 3]})"
      ]
     },
     "execution_count": 127,
     "metadata": {},
     "output_type": "execute_result"
    }
   ],
   "source": [
    "n_components=list(range(1,x_new.shape[1]+1,1))\n",
    "C=np.logspace(-1,4,50)\n",
    "#print(C)\n",
    "penalty=['l2']\n",
    "parameters=dict(pca__n_components=n_components,logistic__C=C,logistic__penalty=penalty)\n",
    "clf=GridSearchCV(pipe,parameters)\n",
    "clf.fit(x_new,y)"
   ]
  },
  {
   "cell_type": "code",
   "execution_count": 128,
   "id": "76fc2a0d",
   "metadata": {},
   "outputs": [
    {
     "name": "stdout",
     "output_type": "stream",
     "text": [
      "Best Penalty: l2\n",
      "Best C: 0.1\n",
      "Best Number Of Components: 2\n",
      "\n",
      "LogisticRegression(C=0.1)\n"
     ]
    }
   ],
   "source": [
    "print('Best Penalty:', clf.best_estimator_.get_params()['logistic__penalty'])\n",
    "print('Best C:', clf.best_estimator_.get_params()['logistic__C'])\n",
    "print('Best Number Of Components:', clf.best_estimator_.get_params()['pca__n_components'])\n",
    "print(); print(clf.best_estimator_.get_params()['logistic'])"
   ]
  },
  {
   "cell_type": "code",
   "execution_count": 129,
   "id": "3136543a",
   "metadata": {},
   "outputs": [
    {
     "name": "stdout",
     "output_type": "stream",
     "text": [
      "\n",
      "[1. 1. 1. 1.]\n",
      "\n",
      "1.0\n",
      "\n",
      "0.0\n"
     ]
    }
   ],
   "source": [
    "# LOGISTIC REGRESSION TEST\n",
    "cv_result=cross_val_score(clf,x_new,y,cv=4,n_jobs=-1)\n",
    "print();print(cv_result)\n",
    "print();print(cv_result.mean())\n",
    "print();print(cv_result.std())"
   ]
  },
  {
   "cell_type": "code",
   "execution_count": 130,
   "id": "2f6c3e43",
   "metadata": {},
   "outputs": [],
   "source": [
    "# SVM TEST\n",
    "clf1 = SVC()\n",
    "clf1.fit(x_new, y)\n",
    "cv_result1=cross_val_score(clf1,x_new,y,cv=4,n_jobs=-1)"
   ]
  },
  {
   "cell_type": "code",
   "execution_count": 131,
   "id": "6eefd195",
   "metadata": {},
   "outputs": [
    {
     "name": "stdout",
     "output_type": "stream",
     "text": [
      "\n",
      "[1.         1.         1.         0.96774194]\n",
      "\n",
      "0.9919354838709677\n",
      "\n",
      "0.013968151673942547\n"
     ]
    }
   ],
   "source": [
    "print();print(cv_result1)\n",
    "print();print(cv_result1.mean())\n",
    "print();print(cv_result1.std())"
   ]
  },
  {
   "cell_type": "code",
   "execution_count": 132,
   "id": "01431646",
   "metadata": {},
   "outputs": [],
   "source": [
    "kernels = ['Polynomial', 'RBF', 'Sigmoid','Linear']#A function which returns the corresponding SVC model\n",
    "def getClassifier(ktype):\n",
    "    if ktype == 0:\n",
    "        # Polynomial kernal\n",
    "        return SVC(kernel='poly', degree=8, gamma=\"auto\")\n",
    "    elif ktype == 1:\n",
    "        # Radial Basis Function kernal\n",
    "        return SVC(kernel='rbf', gamma=\"auto\")\n",
    "    elif ktype == 2:\n",
    "        # Sigmoid kernal\n",
    "        return SVC(kernel='sigmoid', gamma=\"auto\")\n",
    "    elif ktype == 3:\n",
    "        # Linear kernal\n",
    "        return SVC(kernel='linear', gamma=\"auto\")"
   ]
  },
  {
   "cell_type": "code",
   "execution_count": 133,
   "id": "59a561bd",
   "metadata": {},
   "outputs": [
    {
     "name": "stdout",
     "output_type": "stream",
     "text": [
      "Evaluation: Polynomial kernel\n",
      "\n",
      "[0.53125   0.5625    0.5483871 0.5483871]\n",
      "\n",
      "0.5476310483870968\n",
      "\n",
      "0.011074381321935398\n",
      "Evaluation: RBF kernel\n",
      "\n",
      "[1.         1.         1.         0.96774194]\n",
      "\n",
      "0.9919354838709677\n",
      "\n",
      "0.013968151673942547\n",
      "Evaluation: Sigmoid kernel\n",
      "\n",
      "[0.53125   0.5625    0.5483871 0.5483871]\n",
      "\n",
      "0.5476310483870968\n",
      "\n",
      "0.011074381321935398\n",
      "Evaluation: Linear kernel\n",
      "\n",
      "[1. 1. 1. 1.]\n",
      "\n",
      "1.0\n",
      "\n",
      "0.0\n"
     ]
    }
   ],
   "source": [
    "for i in range(4):\n",
    "    # Separate data into test and training sets\n",
    "    # Train a SVC model using different kernal\n",
    "    svclassifier = getClassifier(i) \n",
    "    clf2=svclassifier.fit(x_new, y)# Make prediction \n",
    "    cv_result2=cross_val_score(clf2,x_new,y,cv=4,n_jobs=-1)\n",
    "    print(\"Evaluation:\", kernels[i], \"kernel\")\n",
    "    print();print(cv_result2)\n",
    "    print();print(cv_result2.mean())\n",
    "    print();print(cv_result2.std())\n",
    "   "
   ]
  },
  {
   "cell_type": "code",
   "execution_count": 134,
   "id": "c58f8ccf",
   "metadata": {},
   "outputs": [
    {
     "name": "stdout",
     "output_type": "stream",
     "text": [
      "          0\n",
      "0  1.449041\n",
      "1  0.036161\n",
      "2  0.900104\n",
      "3  0.106194\n",
      "4  2.273286\n",
      "5  0.541070\n"
     ]
    }
   ],
   "source": [
    "# FEATURES SELECTION\n",
    "bestfeatures = SelectKBest(score_func=chi2, k=3)\n",
    "fit = bestfeatures.fit(X_F,y)\n",
    "dfscores = pd.DataFrame(fit.scores_)\n",
    "print(dfscores)\n"
   ]
  },
  {
   "cell_type": "code",
   "execution_count": 135,
   "id": "2f84caf8",
   "metadata": {},
   "outputs": [
    {
     "name": "stdout",
     "output_type": "stream",
     "text": [
      "\n",
      "[1. 1. 1. 1.]\n",
      "\n",
      "1.0\n",
      "\n",
      "0.0\n"
     ]
    }
   ],
   "source": [
    "# Train Decision Tree Classifer\n",
    "\n",
    "clf3 = DecisionTreeClassifier(criterion=\"entropy\", max_depth=3)\n",
    "clf3 = clf3.fit(x_new,y)\n",
    "cv_result3=cross_val_score(clf3,x_new,y,cv=4,n_jobs=-1)\n",
    "print();print(cv_result3)\n",
    "print();print(cv_result3.mean())\n",
    "print();print(cv_result3.std())\n",
    "   "
   ]
  },
  {
   "cell_type": "code",
   "execution_count": 136,
   "id": "aa23735f",
   "metadata": {},
   "outputs": [
    {
     "name": "stdout",
     "output_type": "stream",
     "text": [
      "\n",
      "[1.         1.         1.         0.96774194]\n",
      "\n",
      "0.9919354838709677\n",
      "\n",
      "0.013968151673942547\n"
     ]
    }
   ],
   "source": [
    "# K-NN TEST\n",
    "neigh = KNeighborsClassifier(n_neighbors=3)\n",
    "neigh=neigh.fit(x_new, y)\n",
    "cv_result4=cross_val_score(neigh,x_new,y,cv=4,n_jobs=-1)\n",
    "print();print(cv_result4)\n",
    "print();print(cv_result4.mean())\n",
    "print();print(cv_result4.std())"
   ]
  },
  {
   "cell_type": "code",
   "execution_count": 137,
   "id": "6ba50e00",
   "metadata": {},
   "outputs": [
    {
     "name": "stdout",
     "output_type": "stream",
     "text": [
      "\n",
      "[1. 1. 1. 1.]\n",
      "\n",
      "1.0\n",
      "\n",
      "0.0\n"
     ]
    }
   ],
   "source": [
    "#NAVY BAYES TEST\n",
    "gnb = GaussianNB()\n",
    "y_pred = gnb.fit(x_new, y)\n",
    "cv_result5=cross_val_score(y_pred,x_new,y,cv=4,n_jobs=-1)\n",
    "print();print(cv_result5)\n",
    "print();print(cv_result5.mean())\n",
    "print();print(cv_result5.std())"
   ]
  },
  {
   "cell_type": "code",
   "execution_count": null,
   "id": "defdf865",
   "metadata": {},
   "outputs": [],
   "source": []
  },
  {
   "cell_type": "code",
   "execution_count": null,
   "id": "996d056e",
   "metadata": {},
   "outputs": [],
   "source": []
  },
  {
   "cell_type": "code",
   "execution_count": null,
   "id": "5b85b54e",
   "metadata": {},
   "outputs": [],
   "source": []
  },
  {
   "cell_type": "code",
   "execution_count": null,
   "id": "b265e7ed",
   "metadata": {},
   "outputs": [],
   "source": []
  }
 ],
 "metadata": {
  "kernelspec": {
   "display_name": "Python 3 (ipykernel)",
   "language": "python",
   "name": "python3"
  },
  "language_info": {
   "codemirror_mode": {
    "name": "ipython",
    "version": 3
   },
   "file_extension": ".py",
   "mimetype": "text/x-python",
   "name": "python",
   "nbconvert_exporter": "python",
   "pygments_lexer": "ipython3",
   "version": "3.9.7"
  }
 },
 "nbformat": 4,
 "nbformat_minor": 5
}
