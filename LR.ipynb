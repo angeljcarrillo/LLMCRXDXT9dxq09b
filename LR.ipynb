{
 "cells": [
  {
   "cell_type": "markdown",
   "id": "c98aa80b",
   "metadata": {},
   "source": [
    "# A fastest growing startups is in the logistics and delivery domain. They work with several partners and make on-demand delivery to tehir customers. During the COVID-19 pandemic, they are facing several different challenges and everyday they are trying to address these challenges.\n",
    "\n",
    "They want to predict what makes their customers happy or unhappy using six features, so they can take necessary actions.\n",
    "\n",
    "Attributes X1 to X6 indicate the responses for each question and have values from 1 to 5 where the smaller number indicates less and the higher number indicates more towards the answer.\n",
    "\n",
    "Y = target attribute (Y) with values indicating 0 (unhappy) and 1 (happy) customers\n",
    "X1 = my order was delivered on time\n",
    "X2 = contents of my order was as I expected\n",
    "X3 = I ordered everything I wanted to order\n",
    "X4 = I paid a good price for my order\n",
    "X5 = I am satisfied with my courier\n",
    "X6 = the app makes ordering easy for me"
   ]
  },
  {
   "cell_type": "code",
   "execution_count": 30,
   "id": "bbcdb733",
   "metadata": {},
   "outputs": [],
   "source": [
    "# IMPORT LIBRARYS\n",
    "import os\n",
    "import csv\n",
    "import time \n",
    "import pandas as pd\n",
    "import numpy as np\n",
    "import matplotlib.pyplot as plt\n",
    "from sklearn.discriminant_analysis import QuadraticDiscriminantAnalysis\n",
    "from sklearn.ensemble import GradientBoostingClassifier,RandomForestClassifier\n",
    "from sklearn.preprocessing import StandardScaler\n",
    "from sklearn.pipeline import Pipeline\n",
    "from sklearn.model_selection import RandomizedSearchCV,cross_val_score,train_test_split\n",
    "from sklearn.preprocessing import normalize\n",
    "from sklearn.metrics import classification_report, confusion_matrix,plot_confusion_matrix\n",
    "from sklearn.feature_selection import SelectKBest,chi2,RFE\n",
    "from lazypredict.Supervised import LazyClassifier, LazyRegressor\n",
    "from sklearn.svm import SVR"
   ]
  },
  {
   "cell_type": "code",
   "execution_count": 31,
   "id": "697b3fb6",
   "metadata": {},
   "outputs": [
    {
     "name": "stdout",
     "output_type": "stream",
     "text": [
      "     Y  X1  X2  X3  X4  X5  X6\n",
      "0    0   3   3   3   4   2   4\n",
      "1    0   3   2   3   5   4   3\n",
      "2    1   5   3   3   3   3   5\n",
      "3    0   5   4   3   3   3   5\n",
      "4    0   5   4   3   3   3   5\n",
      "..  ..  ..  ..  ..  ..  ..  ..\n",
      "121  1   5   2   3   4   4   3\n",
      "122  1   5   2   3   4   2   5\n",
      "123  1   5   3   3   4   4   5\n",
      "124  0   4   3   3   4   4   5\n",
      "125  0   5   3   2   5   5   5\n",
      "\n",
      "[126 rows x 7 columns]\n"
     ]
    }
   ],
   "source": [
    "# OPEN THE .CSV FORMAT WITH PANDAS\n",
    "data = pd.read_csv (r'ACME-HappinessSurvey2020.csv')\n",
    "print (data)\n",
    "#print(data.shape)\n",
    "#print(data)"
   ]
  },
  {
   "cell_type": "code",
   "execution_count": 32,
   "id": "22225c72",
   "metadata": {},
   "outputs": [
    {
     "data": {
      "text/html": [
       "<div>\n",
       "<style scoped>\n",
       "    .dataframe tbody tr th:only-of-type {\n",
       "        vertical-align: middle;\n",
       "    }\n",
       "\n",
       "    .dataframe tbody tr th {\n",
       "        vertical-align: top;\n",
       "    }\n",
       "\n",
       "    .dataframe thead th {\n",
       "        text-align: right;\n",
       "    }\n",
       "</style>\n",
       "<table border=\"1\" class=\"dataframe\">\n",
       "  <thead>\n",
       "    <tr style=\"text-align: right;\">\n",
       "      <th></th>\n",
       "      <th>Y</th>\n",
       "      <th>X1</th>\n",
       "      <th>X2</th>\n",
       "      <th>X3</th>\n",
       "      <th>X4</th>\n",
       "      <th>X5</th>\n",
       "      <th>X6</th>\n",
       "    </tr>\n",
       "  </thead>\n",
       "  <tbody>\n",
       "    <tr>\n",
       "      <th>count</th>\n",
       "      <td>126.00</td>\n",
       "      <td>126.00</td>\n",
       "      <td>126.00</td>\n",
       "      <td>126.00</td>\n",
       "      <td>126.00</td>\n",
       "      <td>126.00</td>\n",
       "      <td>126.00</td>\n",
       "    </tr>\n",
       "    <tr>\n",
       "      <th>mean</th>\n",
       "      <td>0.55</td>\n",
       "      <td>4.33</td>\n",
       "      <td>2.53</td>\n",
       "      <td>3.31</td>\n",
       "      <td>3.75</td>\n",
       "      <td>3.65</td>\n",
       "      <td>4.25</td>\n",
       "    </tr>\n",
       "    <tr>\n",
       "      <th>std</th>\n",
       "      <td>0.50</td>\n",
       "      <td>0.80</td>\n",
       "      <td>1.11</td>\n",
       "      <td>1.02</td>\n",
       "      <td>0.88</td>\n",
       "      <td>1.15</td>\n",
       "      <td>0.81</td>\n",
       "    </tr>\n",
       "    <tr>\n",
       "      <th>min</th>\n",
       "      <td>0.00</td>\n",
       "      <td>1.00</td>\n",
       "      <td>1.00</td>\n",
       "      <td>1.00</td>\n",
       "      <td>1.00</td>\n",
       "      <td>1.00</td>\n",
       "      <td>1.00</td>\n",
       "    </tr>\n",
       "    <tr>\n",
       "      <th>25%</th>\n",
       "      <td>0.00</td>\n",
       "      <td>4.00</td>\n",
       "      <td>2.00</td>\n",
       "      <td>3.00</td>\n",
       "      <td>3.00</td>\n",
       "      <td>3.00</td>\n",
       "      <td>4.00</td>\n",
       "    </tr>\n",
       "    <tr>\n",
       "      <th>50%</th>\n",
       "      <td>1.00</td>\n",
       "      <td>5.00</td>\n",
       "      <td>3.00</td>\n",
       "      <td>3.00</td>\n",
       "      <td>4.00</td>\n",
       "      <td>4.00</td>\n",
       "      <td>4.00</td>\n",
       "    </tr>\n",
       "    <tr>\n",
       "      <th>75%</th>\n",
       "      <td>1.00</td>\n",
       "      <td>5.00</td>\n",
       "      <td>3.00</td>\n",
       "      <td>4.00</td>\n",
       "      <td>4.00</td>\n",
       "      <td>4.00</td>\n",
       "      <td>5.00</td>\n",
       "    </tr>\n",
       "    <tr>\n",
       "      <th>max</th>\n",
       "      <td>1.00</td>\n",
       "      <td>5.00</td>\n",
       "      <td>5.00</td>\n",
       "      <td>5.00</td>\n",
       "      <td>5.00</td>\n",
       "      <td>5.00</td>\n",
       "      <td>5.00</td>\n",
       "    </tr>\n",
       "  </tbody>\n",
       "</table>\n",
       "</div>"
      ],
      "text/plain": [
       "           Y     X1     X2     X3     X4     X5     X6\n",
       "count 126.00 126.00 126.00 126.00 126.00 126.00 126.00\n",
       "mean    0.55   4.33   2.53   3.31   3.75   3.65   4.25\n",
       "std     0.50   0.80   1.11   1.02   0.88   1.15   0.81\n",
       "min     0.00   1.00   1.00   1.00   1.00   1.00   1.00\n",
       "25%     0.00   4.00   2.00   3.00   3.00   3.00   4.00\n",
       "50%     1.00   5.00   3.00   3.00   4.00   4.00   4.00\n",
       "75%     1.00   5.00   3.00   4.00   4.00   4.00   5.00\n",
       "max     1.00   5.00   5.00   5.00   5.00   5.00   5.00"
      ]
     },
     "execution_count": 32,
     "metadata": {},
     "output_type": "execute_result"
    }
   ],
   "source": [
    "#Checking the data\n",
    "df = pd.DataFrame(data)\n",
    "df.describe()"
   ]
  },
  {
   "cell_type": "code",
   "execution_count": 62,
   "id": "99545a72",
   "metadata": {},
   "outputs": [
    {
     "name": "stdout",
     "output_type": "stream",
     "text": [
      "# OF UNHAPPY CUST 0: 57 # OF HAPPY CUST 1: 69\n"
     ]
    }
   ],
   "source": [
    "#VERIFY IF THE DATABASE IS BALANCE OR UNBALANCE\n",
    "labels1=df[df['Y'].gt(0)]\n",
    "labels0=df.shape[0]-labels1.loc[:,'Y'].shape[0]\n",
    "print('# OF UNHAPPY CUST 0:',labels0,'# OF HAPPY CUST 1:',labels1.loc[:,'Y'].shape[0])\n"
   ]
  },
  {
   "cell_type": "code",
   "execution_count": 34,
   "id": "a5312136",
   "metadata": {},
   "outputs": [],
   "source": [
    "#DIVIDE TO FEATURES AND LABES, THEN DIVIDE DATA ON TRAIN AND VALIDATION\n",
    "x = df.loc[:,'X1':]\n",
    "#x_new=normalize(x) # NORMALIZE DATA\n",
    "x_new=x # raw data\n",
    "y=df.loc[:,'Y']\n",
    "#print(x,y)\n",
    "X_train, X_test, y_train, y_test = train_test_split(x_new, y, test_size=0.30, random_state=42)\n",
    "#print(X_train)\n"
   ]
  },
  {
   "cell_type": "code",
   "execution_count": 35,
   "id": "d66d22c9",
   "metadata": {},
   "outputs": [
    {
     "name": "stderr",
     "output_type": "stream",
     "text": [
      "100%|██████████████████████████████████████████████████████████████████████████████████| 29/29 [00:01<00:00, 19.64it/s]\n"
     ]
    }
   ],
   "source": [
    "#  LAZY PREDICT TO CHECK THE BEST ALGORITHM FOR THE DATA\n",
    "classi = LazyClassifier(predictions=True)\n",
    "# fit and train the model \n",
    "start_time_1=time.time()\n",
    "models_c,predictions_c=classi.fit(X_train, X_test, y_train, y_test)\n",
    "end_time_1=time.time()"
   ]
  },
  {
   "cell_type": "code",
   "execution_count": 36,
   "id": "e500a2be",
   "metadata": {
    "scrolled": true
   },
   "outputs": [
    {
     "data": {
      "text/html": [
       "<div>\n",
       "<style scoped>\n",
       "    .dataframe tbody tr th:only-of-type {\n",
       "        vertical-align: middle;\n",
       "    }\n",
       "\n",
       "    .dataframe tbody tr th {\n",
       "        vertical-align: top;\n",
       "    }\n",
       "\n",
       "    .dataframe thead th {\n",
       "        text-align: right;\n",
       "    }\n",
       "</style>\n",
       "<table border=\"1\" class=\"dataframe\">\n",
       "  <thead>\n",
       "    <tr style=\"text-align: right;\">\n",
       "      <th></th>\n",
       "      <th>Accuracy</th>\n",
       "      <th>Balanced Accuracy</th>\n",
       "      <th>ROC AUC</th>\n",
       "      <th>F1 Score</th>\n",
       "      <th>Time Taken</th>\n",
       "    </tr>\n",
       "    <tr>\n",
       "      <th>Model</th>\n",
       "      <th></th>\n",
       "      <th></th>\n",
       "      <th></th>\n",
       "      <th></th>\n",
       "      <th></th>\n",
       "    </tr>\n",
       "  </thead>\n",
       "  <tbody>\n",
       "    <tr>\n",
       "      <th>QuadraticDiscriminantAnalysis</th>\n",
       "      <td>0.68</td>\n",
       "      <td>0.69</td>\n",
       "      <td>0.69</td>\n",
       "      <td>0.68</td>\n",
       "      <td>0.01</td>\n",
       "    </tr>\n",
       "    <tr>\n",
       "      <th>XGBClassifier</th>\n",
       "      <td>0.63</td>\n",
       "      <td>0.64</td>\n",
       "      <td>0.64</td>\n",
       "      <td>0.63</td>\n",
       "      <td>0.91</td>\n",
       "    </tr>\n",
       "    <tr>\n",
       "      <th>RandomForestClassifier</th>\n",
       "      <td>0.63</td>\n",
       "      <td>0.64</td>\n",
       "      <td>0.64</td>\n",
       "      <td>0.63</td>\n",
       "      <td>0.10</td>\n",
       "    </tr>\n",
       "    <tr>\n",
       "      <th>ExtraTreeClassifier</th>\n",
       "      <td>0.63</td>\n",
       "      <td>0.64</td>\n",
       "      <td>0.64</td>\n",
       "      <td>0.63</td>\n",
       "      <td>0.01</td>\n",
       "    </tr>\n",
       "    <tr>\n",
       "      <th>BaggingClassifier</th>\n",
       "      <td>0.63</td>\n",
       "      <td>0.64</td>\n",
       "      <td>0.64</td>\n",
       "      <td>0.63</td>\n",
       "      <td>0.02</td>\n",
       "    </tr>\n",
       "    <tr>\n",
       "      <th>AdaBoostClassifier</th>\n",
       "      <td>0.63</td>\n",
       "      <td>0.63</td>\n",
       "      <td>0.63</td>\n",
       "      <td>0.63</td>\n",
       "      <td>0.08</td>\n",
       "    </tr>\n",
       "    <tr>\n",
       "      <th>LabelSpreading</th>\n",
       "      <td>0.61</td>\n",
       "      <td>0.61</td>\n",
       "      <td>0.61</td>\n",
       "      <td>0.60</td>\n",
       "      <td>0.01</td>\n",
       "    </tr>\n",
       "    <tr>\n",
       "      <th>LabelPropagation</th>\n",
       "      <td>0.61</td>\n",
       "      <td>0.61</td>\n",
       "      <td>0.61</td>\n",
       "      <td>0.60</td>\n",
       "      <td>0.01</td>\n",
       "    </tr>\n",
       "    <tr>\n",
       "      <th>ExtraTreesClassifier</th>\n",
       "      <td>0.61</td>\n",
       "      <td>0.61</td>\n",
       "      <td>0.61</td>\n",
       "      <td>0.60</td>\n",
       "      <td>0.08</td>\n",
       "    </tr>\n",
       "    <tr>\n",
       "      <th>Perceptron</th>\n",
       "      <td>0.61</td>\n",
       "      <td>0.61</td>\n",
       "      <td>0.61</td>\n",
       "      <td>0.60</td>\n",
       "      <td>0.02</td>\n",
       "    </tr>\n",
       "    <tr>\n",
       "      <th>NuSVC</th>\n",
       "      <td>0.58</td>\n",
       "      <td>0.59</td>\n",
       "      <td>0.59</td>\n",
       "      <td>0.55</td>\n",
       "      <td>0.00</td>\n",
       "    </tr>\n",
       "    <tr>\n",
       "      <th>LGBMClassifier</th>\n",
       "      <td>0.58</td>\n",
       "      <td>0.59</td>\n",
       "      <td>0.59</td>\n",
       "      <td>0.57</td>\n",
       "      <td>0.04</td>\n",
       "    </tr>\n",
       "    <tr>\n",
       "      <th>NearestCentroid</th>\n",
       "      <td>0.58</td>\n",
       "      <td>0.58</td>\n",
       "      <td>0.58</td>\n",
       "      <td>0.58</td>\n",
       "      <td>0.02</td>\n",
       "    </tr>\n",
       "    <tr>\n",
       "      <th>BernoulliNB</th>\n",
       "      <td>0.58</td>\n",
       "      <td>0.58</td>\n",
       "      <td>0.58</td>\n",
       "      <td>0.58</td>\n",
       "      <td>0.01</td>\n",
       "    </tr>\n",
       "    <tr>\n",
       "      <th>PassiveAggressiveClassifier</th>\n",
       "      <td>0.55</td>\n",
       "      <td>0.56</td>\n",
       "      <td>0.56</td>\n",
       "      <td>0.55</td>\n",
       "      <td>0.02</td>\n",
       "    </tr>\n",
       "    <tr>\n",
       "      <th>SGDClassifier</th>\n",
       "      <td>0.55</td>\n",
       "      <td>0.56</td>\n",
       "      <td>0.56</td>\n",
       "      <td>0.55</td>\n",
       "      <td>0.00</td>\n",
       "    </tr>\n",
       "    <tr>\n",
       "      <th>SVC</th>\n",
       "      <td>0.53</td>\n",
       "      <td>0.54</td>\n",
       "      <td>0.54</td>\n",
       "      <td>0.48</td>\n",
       "      <td>0.02</td>\n",
       "    </tr>\n",
       "    <tr>\n",
       "      <th>LinearDiscriminantAnalysis</th>\n",
       "      <td>0.53</td>\n",
       "      <td>0.53</td>\n",
       "      <td>0.53</td>\n",
       "      <td>0.52</td>\n",
       "      <td>0.01</td>\n",
       "    </tr>\n",
       "    <tr>\n",
       "      <th>LogisticRegression</th>\n",
       "      <td>0.53</td>\n",
       "      <td>0.53</td>\n",
       "      <td>0.53</td>\n",
       "      <td>0.52</td>\n",
       "      <td>0.00</td>\n",
       "    </tr>\n",
       "    <tr>\n",
       "      <th>RidgeClassifier</th>\n",
       "      <td>0.53</td>\n",
       "      <td>0.53</td>\n",
       "      <td>0.53</td>\n",
       "      <td>0.52</td>\n",
       "      <td>0.02</td>\n",
       "    </tr>\n",
       "    <tr>\n",
       "      <th>LinearSVC</th>\n",
       "      <td>0.53</td>\n",
       "      <td>0.53</td>\n",
       "      <td>0.53</td>\n",
       "      <td>0.52</td>\n",
       "      <td>0.01</td>\n",
       "    </tr>\n",
       "    <tr>\n",
       "      <th>KNeighborsClassifier</th>\n",
       "      <td>0.50</td>\n",
       "      <td>0.51</td>\n",
       "      <td>0.51</td>\n",
       "      <td>0.46</td>\n",
       "      <td>0.01</td>\n",
       "    </tr>\n",
       "    <tr>\n",
       "      <th>RidgeClassifierCV</th>\n",
       "      <td>0.50</td>\n",
       "      <td>0.51</td>\n",
       "      <td>0.51</td>\n",
       "      <td>0.49</td>\n",
       "      <td>0.02</td>\n",
       "    </tr>\n",
       "    <tr>\n",
       "      <th>GaussianNB</th>\n",
       "      <td>0.47</td>\n",
       "      <td>0.48</td>\n",
       "      <td>0.48</td>\n",
       "      <td>0.46</td>\n",
       "      <td>0.02</td>\n",
       "    </tr>\n",
       "    <tr>\n",
       "      <th>DecisionTreeClassifier</th>\n",
       "      <td>0.47</td>\n",
       "      <td>0.48</td>\n",
       "      <td>0.48</td>\n",
       "      <td>0.47</td>\n",
       "      <td>0.01</td>\n",
       "    </tr>\n",
       "    <tr>\n",
       "      <th>CalibratedClassifierCV</th>\n",
       "      <td>0.45</td>\n",
       "      <td>0.46</td>\n",
       "      <td>0.46</td>\n",
       "      <td>0.41</td>\n",
       "      <td>0.03</td>\n",
       "    </tr>\n",
       "    <tr>\n",
       "      <th>DummyClassifier</th>\n",
       "      <td>0.34</td>\n",
       "      <td>0.35</td>\n",
       "      <td>0.35</td>\n",
       "      <td>0.34</td>\n",
       "      <td>0.01</td>\n",
       "    </tr>\n",
       "  </tbody>\n",
       "</table>\n",
       "</div>"
      ],
      "text/plain": [
       "                               Accuracy  Balanced Accuracy  ROC AUC  F1 Score  \\\n",
       "Model                                                                           \n",
       "QuadraticDiscriminantAnalysis      0.68               0.69     0.69      0.68   \n",
       "XGBClassifier                      0.63               0.64     0.64      0.63   \n",
       "RandomForestClassifier             0.63               0.64     0.64      0.63   \n",
       "ExtraTreeClassifier                0.63               0.64     0.64      0.63   \n",
       "BaggingClassifier                  0.63               0.64     0.64      0.63   \n",
       "AdaBoostClassifier                 0.63               0.63     0.63      0.63   \n",
       "LabelSpreading                     0.61               0.61     0.61      0.60   \n",
       "LabelPropagation                   0.61               0.61     0.61      0.60   \n",
       "ExtraTreesClassifier               0.61               0.61     0.61      0.60   \n",
       "Perceptron                         0.61               0.61     0.61      0.60   \n",
       "NuSVC                              0.58               0.59     0.59      0.55   \n",
       "LGBMClassifier                     0.58               0.59     0.59      0.57   \n",
       "NearestCentroid                    0.58               0.58     0.58      0.58   \n",
       "BernoulliNB                        0.58               0.58     0.58      0.58   \n",
       "PassiveAggressiveClassifier        0.55               0.56     0.56      0.55   \n",
       "SGDClassifier                      0.55               0.56     0.56      0.55   \n",
       "SVC                                0.53               0.54     0.54      0.48   \n",
       "LinearDiscriminantAnalysis         0.53               0.53     0.53      0.52   \n",
       "LogisticRegression                 0.53               0.53     0.53      0.52   \n",
       "RidgeClassifier                    0.53               0.53     0.53      0.52   \n",
       "LinearSVC                          0.53               0.53     0.53      0.52   \n",
       "KNeighborsClassifier               0.50               0.51     0.51      0.46   \n",
       "RidgeClassifierCV                  0.50               0.51     0.51      0.49   \n",
       "GaussianNB                         0.47               0.48     0.48      0.46   \n",
       "DecisionTreeClassifier             0.47               0.48     0.48      0.47   \n",
       "CalibratedClassifierCV             0.45               0.46     0.46      0.41   \n",
       "DummyClassifier                    0.34               0.35     0.35      0.34   \n",
       "\n",
       "                               Time Taken  \n",
       "Model                                      \n",
       "QuadraticDiscriminantAnalysis        0.01  \n",
       "XGBClassifier                        0.91  \n",
       "RandomForestClassifier               0.10  \n",
       "ExtraTreeClassifier                  0.01  \n",
       "BaggingClassifier                    0.02  \n",
       "AdaBoostClassifier                   0.08  \n",
       "LabelSpreading                       0.01  \n",
       "LabelPropagation                     0.01  \n",
       "ExtraTreesClassifier                 0.08  \n",
       "Perceptron                           0.02  \n",
       "NuSVC                                0.00  \n",
       "LGBMClassifier                       0.04  \n",
       "NearestCentroid                      0.02  \n",
       "BernoulliNB                          0.01  \n",
       "PassiveAggressiveClassifier          0.02  \n",
       "SGDClassifier                        0.00  \n",
       "SVC                                  0.02  \n",
       "LinearDiscriminantAnalysis           0.01  \n",
       "LogisticRegression                   0.00  \n",
       "RidgeClassifier                      0.02  \n",
       "LinearSVC                            0.01  \n",
       "KNeighborsClassifier                 0.01  \n",
       "RidgeClassifierCV                    0.02  \n",
       "GaussianNB                           0.02  \n",
       "DecisionTreeClassifier               0.01  \n",
       "CalibratedClassifierCV               0.03  \n",
       "DummyClassifier                      0.01  "
      ]
     },
     "execution_count": 36,
     "metadata": {},
     "output_type": "execute_result"
    }
   ],
   "source": [
    "# SHOW BEST MODELS\n",
    "models_c"
   ]
  },
  {
   "cell_type": "markdown",
   "id": "33aa7f34",
   "metadata": {},
   "source": [
    "# FEATURES SELECTION"
   ]
  },
  {
   "cell_type": "code",
   "execution_count": 63,
   "id": "80362259",
   "metadata": {},
   "outputs": [
    {
     "data": {
      "text/plain": [
       "array([1, 3, 2, 1, 1, 1])"
      ]
     },
     "execution_count": 63,
     "metadata": {},
     "output_type": "execute_result"
    }
   ],
   "source": [
    "# FEATURES SELECTION SVRFE\n",
    "estimator = SVR(kernel=\"linear\")\n",
    "selector = RFE(estimator, n_features_to_select=4, step=1)\n",
    "selector = selector.fit(x_new, y)\n",
    "selector.support_# relevants values\n",
    "selector.ranking_# NUMBER ONE ARE THE BEST FEATURES"
   ]
  },
  {
   "cell_type": "code",
   "execution_count": 64,
   "id": "d037b522",
   "metadata": {},
   "outputs": [
    {
     "data": {
      "text/plain": [
       "RandomForestClassifier(random_state=0)"
      ]
     },
     "execution_count": 64,
     "metadata": {},
     "output_type": "execute_result"
    }
   ],
   "source": [
    "#FEATURES SELECTION WITH DESICION TREE\n",
    "feature_names = [f\"feature {i}\" for i in range(x_new.shape[1])]\n",
    "forest = RandomForestClassifier(random_state=0)\n",
    "forest.fit(X_train, y_train)"
   ]
  },
  {
   "cell_type": "code",
   "execution_count": 39,
   "id": "4f39a2c9",
   "metadata": {},
   "outputs": [
    {
     "name": "stdout",
     "output_type": "stream",
     "text": [
      "Elapsed time to compute the importances: 0.014 seconds\n"
     ]
    }
   ],
   "source": [
    "#Feature importance based on mean decrease in impurity\n",
    "start_time = time.time()\n",
    "importances = forest.feature_importances_\n",
    "std = np.std([tree.feature_importances_ for tree in forest.estimators_], axis=0)\n",
    "elapsed_time = time.time() - start_time\n",
    "\n",
    "print(f\"Elapsed time to compute the importances: {elapsed_time:.3f} seconds\")"
   ]
  },
  {
   "cell_type": "code",
   "execution_count": 40,
   "id": "97f7d066",
   "metadata": {},
   "outputs": [
    {
     "data": {
      "image/png": "[encoded data removed]",
      "text/plain": [
       "<Figure size 432x288 with 1 Axes>"
      ]
     },
     "metadata": {
      "needs_background": "light"
     },
     "output_type": "display_data"
    }
   ],
   "source": [
    "forest_importances = pd.Series(importances, index=feature_names)\n",
    "fig, ax = plt.subplots()\n",
    "forest_importances.plot.bar(yerr=std, ax=ax)\n",
    "ax.set_title(\"Feature importances using MDI\")\n",
    "ax.set_ylabel(\"Mean decrease in impurity\")\n",
    "fig.tight_layout()\n"
   ]
  },
  {
   "cell_type": "code",
   "execution_count": 65,
   "id": "32a1cc4c",
   "metadata": {},
   "outputs": [],
   "source": [
    "# SELECT BEST FEATURES\n",
    "rank=selector.ranking_\n",
    "X_best_features=[]\n",
    "for i in range(len(rank)):    \n",
    "    if(rank[i]==1):        \n",
    "        X_best_features.append(x_new.iloc[:,i])        \n",
    "X_best_features = pd.concat(X_best_features,axis=1)\n",
    "# DIVIDE IN TRAIN AND VALIDATION WITH EBST FEATURES\n",
    "X_train, X_test, y_train, y_test = train_test_split(X_best_features, y, test_size=0.30, random_state=42)\n"
   ]
  },
  {
   "cell_type": "markdown",
   "id": "0b36e2ed",
   "metadata": {},
   "source": [
    "# RESULTS"
   ]
  },
  {
   "cell_type": "code",
   "execution_count": 60,
   "id": "176bcd36",
   "metadata": {},
   "outputs": [
    {
     "name": "stdout",
     "output_type": "stream",
     "text": [
      "Training Score: [0.4        1.         0.54545455 0.8        0.4       ]\n",
      "Validation Score: 0.631578947368421\n",
      "Specificity 0.5833333333333334\n"
     ]
    },
    {
     "data": {
      "image/png": "[encoded data removed]",
      "text/plain": [
       "<Figure size 432x288 with 2 Axes>"
      ]
     },
     "metadata": {
      "needs_background": "light"
     },
     "output_type": "display_data"
    }
   ],
   "source": [
    "\n",
    "# FIRS MODEL QuadraticDiscriminantAnalysis\n",
    "clf = QuadraticDiscriminantAnalysis()\n",
    "print('Training Score:',cross_val_score(clf, X_train, y_train, cv=5, scoring='recall'))\n",
    "clf.fit(X_train, y_train)\n",
    "print('Validation Score:',clf.score(X_test, y_test))\n",
    "y_pred = clf.predict(X_test)\n",
    "matrix=confusion_matrix(y_test, y_pred)\n",
    "plot_confusion_matrix(clf, X_test, y_test, cmap='gray_r')\n",
    "print('Specificity',matrix[1,1]/(matrix[1,1]+matrix[0,1]))#Specificity (true negatives / all actual negatives) =TN / TN + FP\n"
   ]
  },
  {
   "cell_type": "code",
   "execution_count": 61,
   "id": "04b9c90c",
   "metadata": {},
   "outputs": [
    {
     "name": "stdout",
     "output_type": "stream",
     "text": [
      "Training Score: [0.5        0.4        0.54545455 0.6        0.8       ]\n",
      "Validation Score: 0.631578947368421\n",
      "Specificity 0.5769230769230769\n"
     ]
    },
    {
     "data": {
      "image/png": "[encoded data removed]",
      "text/plain": [
       "<Figure size 432x288 with 2 Axes>"
      ]
     },
     "metadata": {
      "needs_background": "light"
     },
     "output_type": "display_data"
    }
   ],
   "source": [
    "# SECOND MODEL XGBClassifieR\n",
    "clf1 = GradientBoostingClassifier(n_estimators=50, learning_rate=1.0,max_depth=5, random_state=0)\n",
    "print('Training Score:',cross_val_score(clf1, X_train, y_train, cv=5, scoring='recall'))\n",
    "\n",
    "clf1.fit(X_train, y_train)\n",
    "print('Validation Score:',clf1.score(X_test, y_test))\n",
    "y_pred1 = clf1.predict(X_test)\n",
    "matrix1=confusion_matrix(y_test, y_pred1)\n",
    "plot_confusion_matrix(clf1, X_test, y_test, cmap='gray_r')\n",
    "print('Specificity',matrix1[1,1]/(matrix1[1,1]+matrix1[0,1]))#Specificity (true negatives / all actual negatives) =TN / TN + F"
   ]
  },
  {
   "cell_type": "code",
   "execution_count": 59,
   "id": "afa97d2e",
   "metadata": {},
   "outputs": [
    {
     "name": "stdout",
     "output_type": "stream",
     "text": [
      "GradientBoostingClassifier(n_estimators=50, random_state=0)\n"
     ]
    }
   ],
   "source": [
    "# SECOND MODEL XGBClassifieR tunning\n",
    "param_grid={'n_estimators':[50,100,200],'learning_rate':[0.1,0.5,1.0],'max_depth': [3, 5, 10],'min_samples_split': [2, 5, 10]}\n",
    "base_estimator = GradientBoostingClassifier(n_estimators=50, learning_rate=1.0,max_depth=5, random_state=0)\n",
    "sh = RandomizedSearchCV(base_estimator, param_grid, cv=5).fit(X_train,y_train)\n",
    "print(sh.best_estimator_)"
   ]
  },
  {
   "cell_type": "code",
   "execution_count": 53,
   "id": "7571389e",
   "metadata": {},
   "outputs": [
    {
     "name": "stdout",
     "output_type": "stream",
     "text": [
      "Training Score: [0.6        0.7        0.90909091 0.8        0.8       ]\n",
      "Validation Score: 0.5263157894736842\n",
      "Specificity 0.5\n"
     ]
    },
    {
     "data": {
      "image/png": "[encoded data removed]",
      "text/plain": [
       "<Figure size 432x288 with 2 Axes>"
      ]
     },
     "metadata": {
      "needs_background": "light"
     },
     "output_type": "display_data"
    }
   ],
   "source": [
    "# THIRD MODEL RandomForestClassifier\n",
    "clf2 = RandomForestClassifier(max_depth=5, random_state=0)\n",
    "print('Training Score:',cross_val_score(clf2, X_train, y_train, cv=5, scoring='recall'))\n",
    "\n",
    "clf2.fit(X_train, y_train)\n",
    "print('Validation Score:',clf2.score(X_test, y_test))\n",
    "y_pred2 = clf2.predict(X_test)\n",
    "matrix2=confusion_matrix(y_test, y_pred2)\n",
    "plot_confusion_matrix(clf2, X_test, y_test, cmap='gray_r')\n",
    "print('Specificity',matrix2[1,1]/(matrix2[1,1]+matrix2[0,1]))#Specificity (true negatives / all actual negatives) =TN / TN + F\n"
   ]
  },
  {
   "cell_type": "code",
   "execution_count": 54,
   "id": "39f954ac",
   "metadata": {},
   "outputs": [
    {
     "name": "stdout",
     "output_type": "stream",
     "text": [
      "RandomForestClassifier(max_depth=5, min_samples_split=5, random_state=0)\n"
     ]
    }
   ],
   "source": [
    "# 4 MODEL RandomForestClassifier Tuning\n",
    "param_grid = {'max_depth': [3, 5, 10],'min_samples_split': [2, 5, 10]}\n",
    "base_estimator = RandomForestClassifier(random_state=0)\n",
    "sh = RandomizedSearchCV(base_estimator, param_grid, cv=5).fit(X_train,y_train)\n",
    "print(sh.best_estimator_)\n"
   ]
  },
  {
   "cell_type": "markdown",
   "id": "cbd1a67e",
   "metadata": {},
   "source": [
    "# EXAMPLE WITH THE DATABASE BALANCE WITH THE BEST MODELS"
   ]
  },
  {
   "cell_type": "code",
   "execution_count": 103,
   "id": "39b10095",
   "metadata": {},
   "outputs": [],
   "source": [
    "# DELETE HAPPY COUSTUMERA FOR BALANCE DATA WITH BEST FEATURES\n",
    "x2 = X_best_features.loc[:,'X1':]\n",
    "y2=y;\n",
    "cont=0\n",
    "index=[]\n",
    "for i in range(len(y)):    \n",
    "    if(y[i]==1):\n",
    "        cont=cont+1\n",
    "        index.append(i)\n",
    "        if(cont==12):\n",
    "            break      \n",
    "new_x=x2.drop(index, axis=0)\n",
    "new_y=y2.drop(index, axis=0)"
   ]
  },
  {
   "cell_type": "code",
   "execution_count": 104,
   "id": "d5abe329",
   "metadata": {},
   "outputs": [],
   "source": [
    "# DIVIDE DATA\n",
    "X_train, X_test, y_train, y_test = train_test_split(new_x, new_y, test_size=0.30, random_state=42)"
   ]
  },
  {
   "cell_type": "code",
   "execution_count": 106,
   "id": "21a73c12",
   "metadata": {},
   "outputs": [
    {
     "name": "stdout",
     "output_type": "stream",
     "text": [
      "Training Score: [0.88888889 0.55555556 0.875      0.75       0.375     ]\n",
      "Validation Score: 0.6\n",
      "Specificity 0.5263157894736842\n"
     ]
    },
    {
     "data": {
      "image/png": "[encoded data removed]",
      "text/plain": [
       "<Figure size 432x288 with 2 Axes>"
      ]
     },
     "metadata": {
      "needs_background": "light"
     },
     "output_type": "display_data"
    }
   ],
   "source": [
    "# QuadraticDiscriminantAnalysis MODEL WITH DATA BALANCE\n",
    "clf = QuadraticDiscriminantAnalysis()\n",
    "print('Training Score:',cross_val_score(clf, X_train, y_train, cv=5, scoring='recall'))\n",
    "clf.fit(X_train, y_train)\n",
    "print('Validation Score:',clf.score(X_test, y_test))\n",
    "y_pred = clf.predict(X_test)\n",
    "matrix=confusion_matrix(y_test, y_pred)\n",
    "plot_confusion_matrix(clf, X_test, y_test, cmap='gray_r')\n",
    "print('Specificity',matrix[1,1]/(matrix[1,1]+matrix[0,1]))#Specificity (true negatives / all actual negatives) =TN / TN + FP\n"
   ]
  },
  {
   "cell_type": "code",
   "execution_count": 107,
   "id": "e7dda936",
   "metadata": {},
   "outputs": [
    {
     "name": "stdout",
     "output_type": "stream",
     "text": [
      "Training Score: [0.88888889 0.88888889 0.75       0.75       0.375     ]\n",
      "Validation Score: 0.5428571428571428\n",
      "Specificity 0.47368421052631576\n"
     ]
    },
    {
     "data": {
      "image/png": "[encoded data removed]",
      "text/plain": [
       "<Figure size 432x288 with 2 Axes>"
      ]
     },
     "metadata": {
      "needs_background": "light"
     },
     "output_type": "display_data"
    }
   ],
   "source": [
    "# SECOND MODEL XGBClassifieR\n",
    "clf1 = GradientBoostingClassifier(n_estimators=50, learning_rate=1.0,max_depth=5, random_state=0)\n",
    "print('Training Score:',cross_val_score(clf1, X_train, y_train, cv=5, scoring='recall'))\n",
    "\n",
    "clf1.fit(X_train, y_train)\n",
    "print('Validation Score:',clf1.score(X_test, y_test))\n",
    "y_pred1 = clf1.predict(X_test)\n",
    "matrix1=confusion_matrix(y_test, y_pred1)\n",
    "plot_confusion_matrix(clf1, X_test, y_test, cmap='gray_r')\n",
    "print('Specificity',matrix1[1,1]/(matrix1[1,1]+matrix1[0,1]))#Specificity (true negatives / all actual negatives) =T"
   ]
  },
  {
   "cell_type": "code",
   "execution_count": 108,
   "id": "08991543",
   "metadata": {},
   "outputs": [
    {
     "name": "stdout",
     "output_type": "stream",
     "text": [
      "Training Score: [0.88888889 1.         0.875      0.625      0.5       ]\n",
      "Validation Score: 0.5428571428571428\n",
      "Specificity 0.47368421052631576\n"
     ]
    },
    {
     "data": {
      "image/png": "[encoded data removed]",
      "text/plain": [
       "<Figure size 432x288 with 2 Axes>"
      ]
     },
     "metadata": {
      "needs_background": "light"
     },
     "output_type": "display_data"
    }
   ],
   "source": [
    "# THIRD MODEL RandomForestClassifier\n",
    "clf2 = RandomForestClassifier(max_depth=5, random_state=0)\n",
    "print('Training Score:',cross_val_score(clf2, X_train, y_train, cv=5, scoring='recall'))\n",
    "\n",
    "clf2.fit(X_train, y_train)\n",
    "print('Validation Score:',clf2.score(X_test, y_test))\n",
    "y_pred2 = clf2.predict(X_test)\n",
    "matrix2=confusion_matrix(y_test, y_pred2)\n",
    "plot_confusion_matrix(clf2, X_test, y_test, cmap='gray_r')\n",
    "print('Specificity',matrix2[1,1]/(matrix2[1,1]+matrix2[0,1]))#Specificity (true negatives / all actual negatives) =TN / TN + F\n"
   ]
  },
  {
   "cell_type": "markdown",
   "id": "8cd922d5",
   "metadata": {},
   "source": [
    "# Conclusion\n",
    "The analysis of the data was carried out, observing that the database of customers is unbalance, a test was carried out with different classifiers to observe which one best adapted to the database. Since the relevance in this problem is to detect customers who are unhappy with the service, it focuses on analyzing specificity, which is based on detecting if some customers are not happy.\n",
    "Feature selection was carried out using support vector machines to reduce the features and a decision tree to detect the purest features, and the results show that both methods highlight the column (0,4,5,6) as the most important characteristics, this serves to detect which were the most relevant to solve the problem, and in the future only use the selected ones, since they are questions, therefore, if fewer questions can be asked to understand if the client is Satisfied or not is of great importance.\n",
    "We proceed to select 3 models for the classification, of which the best highlighted is the QuadraticDiscriminantAnalysis and the XGBClassifieR, however the best is the QuadraticDiscriminantAnalysis which not require the pararameter to be tunning, and higher level of specificity, indicating that it is the model that best adapts to this database.\n",
    "\n",
    "In adittion in ordert to reduce the missclasification, the database can be balance by reducing the number of customers to the same amount, so 57 customers are happy and unhappy, another alternative is to create dummy samples to increase the unhappy customer to 63."
   ]
  },
  {
   "cell_type": "code",
   "execution_count": null,
   "id": "bc310e9e",
   "metadata": {},
   "outputs": [],
   "source": []
  }
 ],
 "metadata": {
  "kernelspec": {
   "display_name": "Python 3 (ipykernel)",
   "language": "python",
   "name": "python3"
  },
  "language_info": {
   "codemirror_mode": {
    "name": "ipython",
    "version": 3
   },
   "file_extension": ".py",
   "mimetype": "text/x-python",
   "name": "python",
   "nbconvert_exporter": "python",
   "pygments_lexer": "ipython3",
   "version": "3.8.10"
  }
 },
 "nbformat": 4,
 "nbformat_minor": 5
}
